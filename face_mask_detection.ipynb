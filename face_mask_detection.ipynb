{
  "nbformat": 4,
  "nbformat_minor": 0,
  "metadata": {
    "colab": {
      "provenance": []
    },
    "kernelspec": {
      "name": "python3",
      "display_name": "Python 3"
    },
    "language_info": {
      "name": "python"
    }
  },
  "cells": [
    {
      "cell_type": "code",
      "execution_count": 1,
      "metadata": {
        "id": "70HC8yaej71i"
      },
      "outputs": [],
      "source": [
        "import pandas as pd"
      ]
    },
    {
      "cell_type": "code",
      "source": [
        "!pip install kaggle"
      ],
      "metadata": {
        "colab": {
          "base_uri": "https://localhost:8080/"
        },
        "id": "oQnwkM72kYVk",
        "outputId": "e30a76f4-a357-4459-e1e6-c3e9d43728f1"
      },
      "execution_count": 2,
      "outputs": [
        {
          "output_type": "stream",
          "name": "stdout",
          "text": [
            "Requirement already satisfied: kaggle in /usr/local/lib/python3.12/dist-packages (1.7.4.5)\n",
            "Requirement already satisfied: bleach in /usr/local/lib/python3.12/dist-packages (from kaggle) (6.2.0)\n",
            "Requirement already satisfied: certifi>=14.05.14 in /usr/local/lib/python3.12/dist-packages (from kaggle) (2025.10.5)\n",
            "Requirement already satisfied: charset-normalizer in /usr/local/lib/python3.12/dist-packages (from kaggle) (3.4.4)\n",
            "Requirement already satisfied: idna in /usr/local/lib/python3.12/dist-packages (from kaggle) (3.11)\n",
            "Requirement already satisfied: protobuf in /usr/local/lib/python3.12/dist-packages (from kaggle) (5.29.5)\n",
            "Requirement already satisfied: python-dateutil>=2.5.3 in /usr/local/lib/python3.12/dist-packages (from kaggle) (2.9.0.post0)\n",
            "Requirement already satisfied: python-slugify in /usr/local/lib/python3.12/dist-packages (from kaggle) (8.0.4)\n",
            "Requirement already satisfied: requests in /usr/local/lib/python3.12/dist-packages (from kaggle) (2.32.4)\n",
            "Requirement already satisfied: setuptools>=21.0.0 in /usr/local/lib/python3.12/dist-packages (from kaggle) (75.2.0)\n",
            "Requirement already satisfied: six>=1.10 in /usr/local/lib/python3.12/dist-packages (from kaggle) (1.17.0)\n",
            "Requirement already satisfied: text-unidecode in /usr/local/lib/python3.12/dist-packages (from kaggle) (1.3)\n",
            "Requirement already satisfied: tqdm in /usr/local/lib/python3.12/dist-packages (from kaggle) (4.67.1)\n",
            "Requirement already satisfied: urllib3>=1.15.1 in /usr/local/lib/python3.12/dist-packages (from kaggle) (2.5.0)\n",
            "Requirement already satisfied: webencodings in /usr/local/lib/python3.12/dist-packages (from kaggle) (0.5.1)\n"
          ]
        }
      ]
    },
    {
      "cell_type": "code",
      "source": [
        "# configuring the path of Kaggle.json file\n",
        "!mkdir -p ~/.kaggle\n",
        "!cp kaggle.json ~/.kaggle/\n",
        "!chmod 600 ~/.kaggle/kaggle.json"
      ],
      "metadata": {
        "id": "S3_HKKHJn5Vt"
      },
      "execution_count": 3,
      "outputs": []
    },
    {
      "cell_type": "code",
      "source": [
        "# API to fetch the dataset from Kaggle\n",
        "!kaggle datasets download -d omkargurav/face-mask-dataset"
      ],
      "metadata": {
        "colab": {
          "base_uri": "https://localhost:8080/"
        },
        "id": "g8XUO1VRonLj",
        "outputId": "c764021f-c3ab-4711-ca6c-096874201f1c"
      },
      "execution_count": 4,
      "outputs": [
        {
          "output_type": "stream",
          "name": "stdout",
          "text": [
            "Dataset URL: https://www.kaggle.com/datasets/omkargurav/face-mask-dataset\n",
            "License(s): unknown\n",
            "Downloading face-mask-dataset.zip to /content\n",
            "  0% 0.00/163M [00:00<?, ?B/s]\n",
            "100% 163M/163M [00:00<00:00, 1.89GB/s]\n"
          ]
        }
      ]
    },
    {
      "cell_type": "code",
      "source": [
        "# extracting the compessed Dataset\n",
        "from zipfile import ZipFile\n",
        "dataset = '/content/face-mask-dataset.zip'\n",
        "\n",
        "with ZipFile(dataset,'r') as zip:\n",
        "  zip.extractall()\n",
        "  print('The dataset is extracted')"
      ],
      "metadata": {
        "colab": {
          "base_uri": "https://localhost:8080/"
        },
        "id": "meysDYb2o5Zr",
        "outputId": "8c06b103-e59f-40cc-f1aa-31746b79ed1e"
      },
      "execution_count": 5,
      "outputs": [
        {
          "output_type": "stream",
          "name": "stdout",
          "text": [
            "The dataset is extracted\n"
          ]
        }
      ]
    },
    {
      "cell_type": "code",
      "source": [
        "!is"
      ],
      "metadata": {
        "colab": {
          "base_uri": "https://localhost:8080/"
        },
        "id": "RqwygN0SpG0b",
        "outputId": "4185179e-f9cc-415f-97da-a85f31184a90"
      },
      "execution_count": 6,
      "outputs": [
        {
          "output_type": "stream",
          "name": "stdout",
          "text": [
            "/bin/bash: line 1: is: command not found\n"
          ]
        }
      ]
    },
    {
      "cell_type": "code",
      "source": [
        "!ls"
      ],
      "metadata": {
        "colab": {
          "base_uri": "https://localhost:8080/"
        },
        "id": "Xs117aq2p61c",
        "outputId": "4251da4d-9c65-4168-e944-a7efdf444211"
      },
      "execution_count": 8,
      "outputs": [
        {
          "output_type": "stream",
          "name": "stdout",
          "text": [
            "data  drive  face-mask-dataset.zip  kaggle.json  sample_data\n"
          ]
        }
      ]
    },
    {
      "cell_type": "code",
      "source": [
        "import os\n",
        "import numpy as np\n",
        "import matplotlib.pyplot as plt\n",
        "import matplotlib.image as mpimg\n",
        "import cv2\n",
        "from google.colab.patches import cv2_imshow\n",
        "from PIL import Image\n",
        "from sklearn.model_selection import train_test_split"
      ],
      "metadata": {
        "id": "hqDFm1EEqDhy"
      },
      "execution_count": 9,
      "outputs": []
    },
    {
      "cell_type": "code",
      "source": [
        "with_mask_files = os.listdir('/content/data/with_mask')\n",
        "print(with_mask_files[0:5])\n",
        "print(with_mask_files[-5:])"
      ],
      "metadata": {
        "colab": {
          "base_uri": "https://localhost:8080/"
        },
        "id": "nTPG7GBAqcbq",
        "outputId": "0c750873-e12d-41a5-fed4-868b0cd5d373"
      },
      "execution_count": 10,
      "outputs": [
        {
          "output_type": "stream",
          "name": "stdout",
          "text": [
            "['with_mask_2765.jpg', 'with_mask_3385.jpg', 'with_mask_3701.jpg', 'with_mask_1627.jpg', 'with_mask_318.jpg']\n",
            "['with_mask_3069.jpg', 'with_mask_1092.jpg', 'with_mask_365.jpg', 'with_mask_371.jpg', 'with_mask_2029.jpg']\n"
          ]
        }
      ]
    },
    {
      "cell_type": "code",
      "source": [
        "without_mask_files = os.listdir('/content/data/without_mask')\n",
        "print(without_mask_files[0:5])\n",
        "print(without_mask_files[-5:])"
      ],
      "metadata": {
        "colab": {
          "base_uri": "https://localhost:8080/"
        },
        "id": "xggSmL0Hqr5r",
        "outputId": "69d9932d-65cd-4b7b-8961-a2338c445ca0"
      },
      "execution_count": 11,
      "outputs": [
        {
          "output_type": "stream",
          "name": "stdout",
          "text": [
            "['without_mask_2842.jpg', 'without_mask_2120.jpg', 'without_mask_3152.jpg', 'without_mask_3135.jpg', 'without_mask_257.jpg']\n",
            "['without_mask_1920.jpg', 'without_mask_1683.jpg', 'without_mask_3463.jpg', 'without_mask_2803.jpg', 'without_mask_1928.jpg']\n"
          ]
        }
      ]
    },
    {
      "cell_type": "markdown",
      "source": [],
      "metadata": {
        "id": "Uzuih7Oathpv"
      }
    },
    {
      "cell_type": "code",
      "source": [
        "print('number of with mask',len(with_mask_files))\n",
        "print('number of without mask',len(without_mask_files))"
      ],
      "metadata": {
        "colab": {
          "base_uri": "https://localhost:8080/"
        },
        "id": "ymu9qr1nq4vj",
        "outputId": "d5f73f7f-ee04-4d7e-f955-e6a0a4cbfd83"
      },
      "execution_count": 12,
      "outputs": [
        {
          "output_type": "stream",
          "name": "stdout",
          "text": [
            "number of with mask 3725\n",
            "number of without mask 3828\n"
          ]
        }
      ]
    },
    {
      "cell_type": "code",
      "source": [
        "#creating labels for two class og images\n",
        "with_mask_labels = [1]*3725\n",
        "without_mask_labels = [0]*3828\n"
      ],
      "metadata": {
        "id": "VU0hSouRtwbj"
      },
      "execution_count": 13,
      "outputs": []
    },
    {
      "cell_type": "code",
      "source": [
        "print(with_mask_labels[0:5])\n",
        "\n",
        "print(without_mask_labels[0:5])"
      ],
      "metadata": {
        "colab": {
          "base_uri": "https://localhost:8080/"
        },
        "id": "N_XBoqMIu9HL",
        "outputId": "730e9da3-2850-46d5-fb49-313e5d504790"
      },
      "execution_count": 15,
      "outputs": [
        {
          "output_type": "stream",
          "name": "stdout",
          "text": [
            "[1, 1, 1, 1, 1]\n",
            "[0, 0, 0, 0, 0]\n"
          ]
        }
      ]
    },
    {
      "cell_type": "code",
      "source": [
        "print(len(with_mask_labels))\n",
        "print(len(without_mask_labels))"
      ],
      "metadata": {
        "colab": {
          "base_uri": "https://localhost:8080/"
        },
        "id": "EqETB_xevVX7",
        "outputId": "1bdadb58-2e3a-40e8-8898-266b9ebb145d"
      },
      "execution_count": 16,
      "outputs": [
        {
          "output_type": "stream",
          "name": "stdout",
          "text": [
            "3725\n",
            "3828\n"
          ]
        }
      ]
    },
    {
      "cell_type": "code",
      "source": [
        "labels=with_mask_labels+without_mask_labels\n",
        "print(len(labels))"
      ],
      "metadata": {
        "colab": {
          "base_uri": "https://localhost:8080/"
        },
        "id": "Ec6dv801vnL7",
        "outputId": "d68b9b7a-89ab-45e2-edfb-e1c803302daa"
      },
      "execution_count": 17,
      "outputs": [
        {
          "output_type": "stream",
          "name": "stdout",
          "text": [
            "7553\n"
          ]
        }
      ]
    },
    {
      "cell_type": "code",
      "source": [
        "# convert images to numpy array"
      ],
      "metadata": {
        "id": "05cwu_i4wDHL"
      },
      "execution_count": 18,
      "outputs": []
    },
    {
      "cell_type": "code",
      "source": [
        "with_mask_path='/content/data/with_mask'\n",
        "\n",
        "data=[]\n",
        "\n",
        "for img_file in with_mask_files:\n",
        "  image=Image.open('/content/data/with_mask/'+img_file)\n",
        "  image=image.resize((128,128))\n",
        "  image=image.convert('RGB')\n",
        "  image=np.array(image)\n",
        "  data.append(image)\n",
        "\n",
        "\n",
        "without_mask_path='/content/data/without_mask'\n",
        "# The data list is being overwritten here, so I'll append the images from the without_mask directory to the existing data list.\n",
        "for img_file in without_mask_files:\n",
        "  image=Image.open(without_mask_path+'/'+img_file) # Added a forward slash here\n",
        "  image=image.resize((128,128))\n",
        "  image=image.convert('RGB')\n",
        "  image=np.array(image)\n",
        "  data.append(image)"
      ],
      "metadata": {
        "colab": {
          "base_uri": "https://localhost:8080/"
        },
        "id": "glVV2glZxaa5",
        "outputId": "10d4f288-0355-42f2-b112-d03154fe20d0"
      },
      "execution_count": 22,
      "outputs": [
        {
          "output_type": "stream",
          "name": "stderr",
          "text": [
            "/usr/local/lib/python3.12/dist-packages/PIL/Image.py:1047: UserWarning: Palette images with Transparency expressed in bytes should be converted to RGBA images\n",
            "  warnings.warn(\n"
          ]
        }
      ]
    },
    {
      "cell_type": "code",
      "source": [
        "type(data)"
      ],
      "metadata": {
        "colab": {
          "base_uri": "https://localhost:8080/"
        },
        "id": "Bb_ldEgezx7U",
        "outputId": "2516a3c3-5862-46dd-d5ab-f93d993ca017"
      },
      "execution_count": 23,
      "outputs": [
        {
          "output_type": "execute_result",
          "data": {
            "text/plain": [
              "list"
            ]
          },
          "metadata": {},
          "execution_count": 23
        }
      ]
    },
    {
      "cell_type": "code",
      "source": [
        "len(data)"
      ],
      "metadata": {
        "colab": {
          "base_uri": "https://localhost:8080/"
        },
        "id": "rEnz8N5C1V_E",
        "outputId": "0c279e1a-c517-449f-c4f6-ee22518379a7"
      },
      "execution_count": 24,
      "outputs": [
        {
          "output_type": "execute_result",
          "data": {
            "text/plain": [
              "7553"
            ]
          },
          "metadata": {},
          "execution_count": 24
        }
      ]
    },
    {
      "cell_type": "code",
      "source": [
        "data[0]"
      ],
      "metadata": {
        "colab": {
          "base_uri": "https://localhost:8080/",
          "height": 887
        },
        "id": "UOHx3NPv1YZ8",
        "outputId": "6f361e24-cba1-46fa-c40f-6a9514d37c08"
      },
      "execution_count": 25,
      "outputs": [
        {
          "output_type": "execute_result",
          "data": {
            "text/plain": [
              "array([[[ 91,  85,  53],\n",
              "        [ 91,  85,  53],\n",
              "        [ 91,  85,  53],\n",
              "        ...,\n",
              "        [101,  94,  65],\n",
              "        [100,  93,  64],\n",
              "        [100,  93,  64]],\n",
              "\n",
              "       [[ 92,  86,  54],\n",
              "        [ 92,  86,  54],\n",
              "        [ 92,  86,  54],\n",
              "        ...,\n",
              "        [100,  93,  64],\n",
              "        [100,  93,  64],\n",
              "        [100,  93,  64]],\n",
              "\n",
              "       [[ 94,  88,  56],\n",
              "        [ 94,  88,  56],\n",
              "        [ 94,  88,  56],\n",
              "        ...,\n",
              "        [100,  93,  64],\n",
              "        [ 99,  92,  63],\n",
              "        [ 99,  92,  63]],\n",
              "\n",
              "       ...,\n",
              "\n",
              "       [[125, 136, 156],\n",
              "        [154, 166, 185],\n",
              "        [151, 162, 180],\n",
              "        ...,\n",
              "        [144, 159, 180],\n",
              "        [134, 148, 169],\n",
              "        [123, 138, 159]],\n",
              "\n",
              "       [[113, 125, 147],\n",
              "        [ 69,  80, 102],\n",
              "        [ 92, 101, 123],\n",
              "        ...,\n",
              "        [164, 177, 197],\n",
              "        [118, 131, 150],\n",
              "        [144, 157, 176]],\n",
              "\n",
              "       [[107, 119, 141],\n",
              "        [121, 133, 155],\n",
              "        [ 89, 101, 123],\n",
              "        ...,\n",
              "        [135, 148, 167],\n",
              "        [140, 153, 172],\n",
              "        [155, 168, 187]]], dtype=uint8)"
            ],
            "text/html": [
              "<style>\n",
              "      .ndarray_repr .ndarray_raw_data {\n",
              "        display: none;\n",
              "      }\n",
              "      .ndarray_repr.show_array .ndarray_raw_data {\n",
              "        display: block;\n",
              "      }\n",
              "      .ndarray_repr.show_array .ndarray_image_preview {\n",
              "        display: none;\n",
              "      }\n",
              "      </style>\n",
              "      <div id=\"id-77c372d2-6559-4dcf-8e3a-6e76e88d3763\" class=\"ndarray_repr\"><pre>ndarray (128, 128, 3) <button style=\"padding: 0 2px;\">show data</button></pre><img src=\"data:image/png;base64,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\" class=\"ndarray_image_preview\" /><pre class=\"ndarray_raw_data\">array([[[ 91,  85,  53],\n",
              "        [ 91,  85,  53],\n",
              "        [ 91,  85,  53],\n",
              "        ...,\n",
              "        [101,  94,  65],\n",
              "        [100,  93,  64],\n",
              "        [100,  93,  64]],\n",
              "\n",
              "       [[ 92,  86,  54],\n",
              "        [ 92,  86,  54],\n",
              "        [ 92,  86,  54],\n",
              "        ...,\n",
              "        [100,  93,  64],\n",
              "        [100,  93,  64],\n",
              "        [100,  93,  64]],\n",
              "\n",
              "       [[ 94,  88,  56],\n",
              "        [ 94,  88,  56],\n",
              "        [ 94,  88,  56],\n",
              "        ...,\n",
              "        [100,  93,  64],\n",
              "        [ 99,  92,  63],\n",
              "        [ 99,  92,  63]],\n",
              "\n",
              "       ...,\n",
              "\n",
              "       [[125, 136, 156],\n",
              "        [154, 166, 185],\n",
              "        [151, 162, 180],\n",
              "        ...,\n",
              "        [144, 159, 180],\n",
              "        [134, 148, 169],\n",
              "        [123, 138, 159]],\n",
              "\n",
              "       [[113, 125, 147],\n",
              "        [ 69,  80, 102],\n",
              "        [ 92, 101, 123],\n",
              "        ...,\n",
              "        [164, 177, 197],\n",
              "        [118, 131, 150],\n",
              "        [144, 157, 176]],\n",
              "\n",
              "       [[107, 119, 141],\n",
              "        [121, 133, 155],\n",
              "        [ 89, 101, 123],\n",
              "        ...,\n",
              "        [135, 148, 167],\n",
              "        [140, 153, 172],\n",
              "        [155, 168, 187]]], dtype=uint8)</pre></div><script>\n",
              "      (() => {\n",
              "      const titles = ['show data', 'hide data'];\n",
              "      let index = 0\n",
              "      document.querySelector('#id-77c372d2-6559-4dcf-8e3a-6e76e88d3763 button').onclick = (e) => {\n",
              "        document.querySelector('#id-77c372d2-6559-4dcf-8e3a-6e76e88d3763').classList.toggle('show_array');\n",
              "        index = (++index) % 2;\n",
              "        document.querySelector('#id-77c372d2-6559-4dcf-8e3a-6e76e88d3763 button').textContent = titles[index];\n",
              "        e.preventDefault();\n",
              "        e.stopPropagation();\n",
              "      }\n",
              "      })();\n",
              "    </script>"
            ]
          },
          "metadata": {},
          "execution_count": 25
        }
      ]
    },
    {
      "cell_type": "code",
      "source": [
        "data[0].shape"
      ],
      "metadata": {
        "colab": {
          "base_uri": "https://localhost:8080/"
        },
        "id": "9CJp-GKf1bsr",
        "outputId": "b0af66ec-edec-4fe8-8e8e-fd8b6e369bd5"
      },
      "execution_count": 26,
      "outputs": [
        {
          "output_type": "execute_result",
          "data": {
            "text/plain": [
              "(128, 128, 3)"
            ]
          },
          "metadata": {},
          "execution_count": 26
        }
      ]
    },
    {
      "cell_type": "code",
      "source": [
        "x=np.array(data)\n",
        "y=np.array(labels)"
      ],
      "metadata": {
        "id": "kXDoamR21pzM"
      },
      "execution_count": 27,
      "outputs": []
    },
    {
      "cell_type": "code",
      "source": [
        "print(x.shape)\n",
        "print(y.shape)\n"
      ],
      "metadata": {
        "colab": {
          "base_uri": "https://localhost:8080/"
        },
        "id": "Z1WF3x_C2Ge8",
        "outputId": "f70376a3-65a9-40c2-e4e9-92ab53c1feef"
      },
      "execution_count": 28,
      "outputs": [
        {
          "output_type": "stream",
          "name": "stdout",
          "text": [
            "(7553, 128, 128, 3)\n",
            "(7553,)\n"
          ]
        }
      ]
    },
    {
      "cell_type": "code",
      "source": [
        "x_train,x_test,y_train,y_test=train_test_split(x,y,test_size=0.2,random_state=2)"
      ],
      "metadata": {
        "id": "h6P47NuI2N1E"
      },
      "execution_count": 30,
      "outputs": []
    },
    {
      "cell_type": "code",
      "source": [
        "print(x_train.shape,x_test.shape,)"
      ],
      "metadata": {
        "colab": {
          "base_uri": "https://localhost:8080/"
        },
        "id": "d1QItvuO2je-",
        "outputId": "6d73ae9a-b8d9-4c0f-afec-4784bf7cfc02"
      },
      "execution_count": 31,
      "outputs": [
        {
          "output_type": "stream",
          "name": "stdout",
          "text": [
            "(6042, 128, 128, 3) (1511, 128, 128, 3)\n"
          ]
        }
      ]
    },
    {
      "cell_type": "code",
      "source": [
        "# scaling the data\n",
        "x_train_scaled=x_train/255\n",
        "x_test_scaled=x_test/255"
      ],
      "metadata": {
        "id": "uU09GH3i3AdE"
      },
      "execution_count": 32,
      "outputs": []
    },
    {
      "cell_type": "code",
      "source": [
        "import tensorflow as tf\n",
        "from tensorflow import keras"
      ],
      "metadata": {
        "id": "4d0zcbs044Sr"
      },
      "execution_count": 33,
      "outputs": []
    },
    {
      "cell_type": "code",
      "source": [
        "num_of_classes=2\n",
        "model=keras.Sequential()\n",
        "model.add(keras.layers.Conv2D(32,kernel_size=(3,3),activation='relu',input_shape=(128,128,3)))\n",
        "model.add(keras.layers.MaxPooling2D(pool_size=(2,2)))\n",
        "\n",
        "model.add(keras.layers.Conv2D(64,kernel_size=(3,3),activation='relu'))\n",
        "model.add(keras.layers.MaxPooling2D(pool_size=(2,2)))\n",
        "\n",
        "model.add(keras.layers.Flatten())\n",
        "model.add(keras.layers.Dense(128,activation='relu'))\n",
        "model.add(keras.layers.Dropout(0.5))\n",
        "\n",
        "model.add(keras.layers.Dense(64,activation='relu'))\n",
        "model.add(keras.layers.Dropout(0.5))\n",
        "\n",
        "model.add(keras.layers.Dense(num_of_classes,activation='sigmoid'))"
      ],
      "metadata": {
        "colab": {
          "base_uri": "https://localhost:8080/"
        },
        "id": "AZ2HJL727eB0",
        "outputId": "8b0bd36d-3b3e-48b2-8e06-79f7735d6d82"
      },
      "execution_count": 39,
      "outputs": [
        {
          "output_type": "stream",
          "name": "stderr",
          "text": [
            "/usr/local/lib/python3.12/dist-packages/keras/src/layers/convolutional/base_conv.py:113: UserWarning: Do not pass an `input_shape`/`input_dim` argument to a layer. When using Sequential models, prefer using an `Input(shape)` object as the first layer in the model instead.\n",
            "  super().__init__(activity_regularizer=activity_regularizer, **kwargs)\n"
          ]
        }
      ]
    },
    {
      "cell_type": "code",
      "metadata": {
        "id": "511b1fc6"
      },
      "source": [
        "model.compile(optimizer='adam',\n",
        "              loss='sparse_categorical_crossentropy',\n",
        "              metrics=['accuracy'])"
      ],
      "execution_count": 41,
      "outputs": []
    },
    {
      "cell_type": "code",
      "source": [
        "history=model.fit(x_train_scaled,y_train,validation_split=0.1,epochs=5)"
      ],
      "metadata": {
        "colab": {
          "base_uri": "https://localhost:8080/"
        },
        "id": "WrmKNHiK9tpz",
        "outputId": "0f99f059-03c5-4fbc-f91c-7a07d2c2bd2c"
      },
      "execution_count": 42,
      "outputs": [
        {
          "output_type": "stream",
          "name": "stdout",
          "text": [
            "Epoch 1/5\n",
            "\u001b[1m170/170\u001b[0m \u001b[32m━━━━━━━━━━━━━━━━━━━━\u001b[0m\u001b[37m\u001b[0m \u001b[1m94s\u001b[0m 540ms/step - accuracy: 0.6934 - loss: 0.7274 - val_accuracy: 0.9008 - val_loss: 0.2548\n",
            "Epoch 2/5\n",
            "\u001b[1m170/170\u001b[0m \u001b[32m━━━━━━━━━━━━━━━━━━━━\u001b[0m\u001b[37m\u001b[0m \u001b[1m139s\u001b[0m 527ms/step - accuracy: 0.8806 - loss: 0.3083 - val_accuracy: 0.9091 - val_loss: 0.2335\n",
            "Epoch 3/5\n",
            "\u001b[1m170/170\u001b[0m \u001b[32m━━━━━━━━━━━━━━━━━━━━\u001b[0m\u001b[37m\u001b[0m \u001b[1m92s\u001b[0m 541ms/step - accuracy: 0.9047 - loss: 0.2506 - val_accuracy: 0.9372 - val_loss: 0.1886\n",
            "Epoch 4/5\n",
            "\u001b[1m170/170\u001b[0m \u001b[32m━━━━━━━━━━━━━━━━━━━━\u001b[0m\u001b[37m\u001b[0m \u001b[1m143s\u001b[0m 545ms/step - accuracy: 0.9108 - loss: 0.2150 - val_accuracy: 0.9388 - val_loss: 0.1729\n",
            "Epoch 5/5\n",
            "\u001b[1m170/170\u001b[0m \u001b[32m━━━━━━━━━━━━━━━━━━━━\u001b[0m\u001b[37m\u001b[0m \u001b[1m92s\u001b[0m 541ms/step - accuracy: 0.9316 - loss: 0.1714 - val_accuracy: 0.9405 - val_loss: 0.1699\n"
          ]
        }
      ]
    },
    {
      "cell_type": "code",
      "source": [
        "# model evaluation\n",
        "loss,accuracy=model.evaluate(x_test_scaled,y_test)\n",
        "print('Test Accuracy:',accuracy)"
      ],
      "metadata": {
        "colab": {
          "base_uri": "https://localhost:8080/"
        },
        "id": "ThP9strd-9Vz",
        "outputId": "5b4cba34-16e2-4a66-8d8e-a76f548f9fd6"
      },
      "execution_count": 44,
      "outputs": [
        {
          "output_type": "stream",
          "name": "stdout",
          "text": [
            "\u001b[1m48/48\u001b[0m \u001b[32m━━━━━━━━━━━━━━━━━━━━\u001b[0m\u001b[37m\u001b[0m \u001b[1m8s\u001b[0m 156ms/step - accuracy: 0.9245 - loss: 0.2029\n",
            "Test Accuracy: 0.9172733426094055\n"
          ]
        }
      ]
    },
    {
      "cell_type": "code",
      "source": [
        "h=history\n",
        "# plot the loss value\n",
        "plt.plot(h.history['loss'],label='train loss')\n",
        "plt.plot(h.history['val_loss'],label='validation loss')\n",
        "plt.legend()\n",
        "plt.show()\n",
        "\n",
        "# plot the accuracy value\n",
        "plt.plot(h.history['accuracy'],label='train accuracy')\n",
        "plt.plot(h.history['val_accuracy'],label='validation accuracy')\n",
        "plt.legend()\n",
        "plt.show()"
      ],
      "metadata": {
        "colab": {
          "base_uri": "https://localhost:8080/",
          "height": 843
        },
        "id": "IZ_wHxoNB6H8",
        "outputId": "17688702-0cf5-4e17-c8aa-ea4cb4dd4444"
      },
      "execution_count": 46,
      "outputs": [
        {
          "output_type": "display_data",
          "data": {
            "text/plain": [
              "<Figure size 640x480 with 1 Axes>"
            ],
            "image/png": "[encoded data removed]"
          },
          "metadata": {}
        },
        {
          "output_type": "display_data",
          "data": {
            "text/plain": [
              "<Figure size 640x480 with 1 Axes>"
            ],
            "image/png": "[encoded data removed]"
          },
          "metadata": {}
        }
      ]
    },
    {
      "cell_type": "code",
      "source": [],
      "metadata": {
        "id": "fhiOygQ9CPFE"
      },
      "execution_count": null,
      "outputs": []
    }
  ]
}